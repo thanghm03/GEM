{
  "cells": [
    {
      "cell_type": "markdown",
      "metadata": {
        "id": "Tce3stUlHN0L"
      },
      "source": [
        "##### Copyright 2025 Google LLC."
      ]
    },
    {
      "cell_type": "code",
      "execution_count": null,
      "metadata": {
        "id": "tuOe1ymfHZPu"
      },
      "outputs": [],
      "source": [
        "# @title Licensed under the Apache License, Version 2.0 (the \"License\");\n",
        "# you may not use this file except in compliance with the License.\n",
        "# You may obtain a copy of the License at\n",
        "#\n",
        "# https://www.apache.org/licenses/LICENSE-2.0\n",
        "#\n",
        "# Unless required by applicable law or agreed to in writing, software\n",
        "# distributed under the License is distributed on an \"AS IS\" BASIS,\n",
        "# WITHOUT WARRANTIES OR CONDITIONS OF ANY KIND, either express or implied.\n",
        "# See the License for the specific language governing permissions and\n",
        "# limitations under the License."
      ]
    },
    {
      "cell_type": "markdown",
      "metadata": {
        "id": "yeadDkMiISin"
      },
      "source": [
        "# Gemini API: Authentication Quickstart"
      ]
    },
    {
      "cell_type": "markdown",
      "metadata": {
        "id": "lEXQ3OwKIa-O"
      },
      "source": [
        "<a target=\"_blank\" href=\"https://colab.research.google.com/github/google-gemini/cookbook/blob/main/quickstarts/Authentication.ipynb\"><img src=\"https://colab.research.google.com/assets/colab-badge.svg\" height=30/></a>"
      ]
    },
    {
      "cell_type": "markdown",
      "metadata": {
        "id": "df1767a3d1cc"
      },
      "source": [
        "The Gemini API uses API keys for authentication. This notebook walks you through creating an API key, and using it with the Python SDK or a command-line tool like `curl`."
      ]
    },
    {
      "cell_type": "markdown",
      "metadata": {
        "id": "mhFKmRmxi5B-"
      },
      "source": [
        "## Create an API key\n",
        "\n",
        "You can [create](https://aistudio.google.com/app/apikey) your API key using Google AI Studio with a single click.  \n",
        "\n",
        "Remember to treat your API key like a password. Don't accidentally save it in a notebook or source file you later commit to GitHub. This notebook shows you two ways you can securely store your API key.\n",
        "\n",
        "* If you're using Google Colab, it's recommended to store your key in Colab Secrets.\n",
        "\n",
        "* If you're using a different development environment (or calling the Gemini API through `cURL` in your terminal), it's recommended to store your key in an [environment variable](https://en.wikipedia.org/wiki/Environment_variable).\n",
        "\n",
        "Let's start with Colab Secrets."
      ]
    },
    {
      "cell_type": "markdown",
      "metadata": {
        "id": "dEoigYI9Jw_K"
      },
      "source": [
        "## Add your key to Colab Secrets\n",
        "\n",
        "Add your API key to the Colab Secrets manager to securely store it.\n",
        "\n",
        "1. Open your Google Colab notebook and click on the 🔑 **Secrets** tab in the left panel.\n",
        "   \n",
        "   <img src=\"https://storage.googleapis.com/generativeai-downloads/images/secrets.jpg\" alt=\"You can find the Secrets tab on the left panel.\" width=50%>\n",
        "\n",
        "2. Create a new secret with the name `GOOGLE_API_KEY`.\n",
        "3. Copy and paste your API key into the `Value` input box of `GOOGLE_API_KEY`.\n",
        "4. Toggle the button on the left to allow all notebooks access to the secret.\n"
      ]
    },
    {
      "cell_type": "markdown",
      "metadata": {
        "id": "jRY1eioF4gUB"
      },
      "source": [
        "## Install the Python SDK"
      ]
    },
    {
      "cell_type": "code",
      "execution_count": 1,
      "metadata": {
        "id": "xuiLSV7amy3P",
        "colab": {
          "base_uri": "https://localhost:8080/"
        },
        "outputId": "d95cd3ed-5d24-4960-9678-cc19befc82fa"
      },
      "outputs": [
        {
          "output_type": "stream",
          "name": "stdout",
          "text": [
            "\u001b[2K     \u001b[90m━━━━━━━━━━━━━━━━━━━━━━━━━━━━━━━━━━━━━━━━\u001b[0m \u001b[32m43.6/43.6 kB\u001b[0m \u001b[31m1.9 MB/s\u001b[0m eta \u001b[36m0:00:00\u001b[0m\n",
            "\u001b[2K   \u001b[90m━━━━━━━━━━━━━━━━━━━━━━━━━━━━━━━━━━━━━━━━\u001b[0m \u001b[32m245.3/245.3 kB\u001b[0m \u001b[31m8.0 MB/s\u001b[0m eta \u001b[36m0:00:00\u001b[0m\n",
            "\u001b[?25h"
          ]
        }
      ],
      "source": [
        "%pip install -qU 'google-genai>=1.0.0'"
      ]
    },
    {
      "cell_type": "markdown",
      "metadata": {
        "id": "3dw8ygh74mVc"
      },
      "source": [
        "## Configure the SDK with your API key\n",
        "\n",
        "You create a client using your API key, but instead of pasting your key into the notebook, you'll read it from Colab Secrets thanks to `userdata`."
      ]
    },
    {
      "cell_type": "code",
      "execution_count": 8,
      "metadata": {
        "id": "DTl-qZp34sht"
      },
      "outputs": [],
      "source": [
        "from google import genai\n",
        "from google.colab import userdata\n",
        "\n",
        "GOOGLE_API_KEY = userdata.get('GOOGLE_API_KEY')\n",
        "client = genai.Client(api_key=GOOGLE_API_KEY)"
      ]
    },
    {
      "cell_type": "markdown",
      "metadata": {
        "id": "b7ceb7517bf5"
      },
      "source": [
        "Now choose a model. The Gemini API offers different models that are optimized for specific use cases. For more information check [Gemini models](https://ai.google.dev/gemini-api/docs/models)"
      ]
    },
    {
      "cell_type": "code",
      "execution_count": 4,
      "metadata": {
        "id": "7135d9ae3e4b"
      },
      "outputs": [],
      "source": [
        "MODEL_ID = \"gemini-2.5-pro\" # @param [\"gemini-2.5-flash-lite\",\"gemini-2.0-flash\",\"gemini-2.5-flash\",\"gemini-2.5-pro\"] {\"allow-input\":true, isTemplate: true}"
      ]
    },
    {
      "cell_type": "markdown",
      "metadata": {
        "id": "tr7oAO6-nMsE"
      },
      "source": [
        "And that's it! Now you're ready to call the Gemini API."
      ]
    },
    {
      "cell_type": "code",
      "execution_count": 10,
      "metadata": {
        "id": "n6sXnWrJoKoo",
        "colab": {
          "base_uri": "https://localhost:8080/",
          "height": 1000
        },
        "outputId": "7b11453a-76a8-451d-c8ad-7c9fc383302f"
      },
      "outputs": [
        {
          "output_type": "display_data",
          "data": {
            "text/plain": [
              "<IPython.core.display.Markdown object>"
            ],
            "text/markdown": "Python offers very convenient and efficient ways to sort lists. There are two primary methods:\n\n1.  **`list.sort()`:** This method sorts the list *in-place*, meaning it modifies the original list directly and doesn't return a new list (it returns `None`).\n2.  **`sorted()` (built-in function):** This function returns a *new* sorted list, leaving the original list unchanged. It can sort any iterable (lists, tuples, strings, etc.), not just lists.\n\nLet's look at examples for both, along with common customization options.\n\n---\n\n## 1. `list.sort()` (In-Place Sorting)\n\nUse this when you don't need the original unsorted list and want to modify it directly.\n\n```python\n# --- Example 1: Basic sorting of numbers ---\nnumbers = [3, 1, 4, 1, 5, 9, 2, 6]\nprint(f\"Original numbers: {numbers}\")\n\nnumbers.sort() # Sorts the list in-place (ascending by default)\nprint(f\"Sorted numbers (ascending): {numbers}\")\n\n# --- Example 2: Sorting in descending order ---\nnumbers = [3, 1, 4, 1, 5, 9, 2, 6] # Re-initialize for demonstration\nnumbers.sort(reverse=True) # Sorts in-place, descending\nprint(f\"Sorted numbers (descending): {numbers}\")\n\n# --- Example 3: Sorting strings ---\nfruits = [\"banana\", \"apple\", \"cherry\", \"date\", \"Apple\"]\nprint(f\"\\nOriginal fruits: {fruits}\")\n\nfruits.sort() # Sorts alphabetically (case-sensitive: 'Apple' comes before 'banana')\nprint(f\"Sorted fruits (alphabetical, case-sensitive): {fruits}\")\n\n# --- Example 4: Sorting strings case-insensitively using a 'key' ---\n# The 'key' argument takes a function that is called on each list element\n# before comparisons are made. Here, `str.lower` converts each string to\n# lowercase for sorting purposes, but the original strings remain unchanged.\nfruits = [\"banana\", \"apple\", \"cherry\", \"date\", \"Apple\"]\nfruits.sort(key=str.lower)\nprint(f\"Sorted fruits (alphabetical, case-insensitive): {fruits}\")\n```\n\n**Key Characteristics of `list.sort()`:**\n*   **Modifies original list:** The list object itself is changed.\n*   **Returns `None`:** Don't do `my_list = my_list.sort()`, as `my_list` will become `None`.\n*   **Only for lists:** Can only be called on list objects.\n\n---\n\n## 2. `sorted()` (Returns a New Sorted List)\n\nUse this when you need a new sorted version of the list (or any iterable) and want to keep the original unchanged.\n\n```python\n# --- Example 1: Basic sorting of numbers ---\nnumbers = [3, 1, 4, 1, 5, 9, 2, 6]\nprint(f\"\\nOriginal numbers: {numbers}\")\n\nsorted_numbers = sorted(numbers) # Returns a new sorted list\nprint(f\"New sorted numbers (ascending): {sorted_numbers}\")\nprint(f\"Original numbers (unchanged): {numbers}\")\n\n# --- Example 2: Sorting in descending order ---\nsorted_numbers_desc = sorted(numbers, reverse=True)\nprint(f\"New sorted numbers (descending): {sorted_numbers_desc}\")\n\n# --- Example 3: Sorting strings case-insensitively using 'key' ---\nfruits = [\"banana\", \"apple\", \"cherry\", \"date\", \"Apple\"]\nprint(f\"\\nOriginal fruits: {fruits}\")\n\nsorted_fruits_case_insensitive = sorted(fruits, key=str.lower)\nprint(f\"New sorted fruits (case-insensitive): {sorted_fruits_case_insensitive}\")\nprint(f\"Original fruits (unchanged): {fruits}\")\n\n# --- Example 4: Sorting a list of dictionaries by a specific key ---\ndata = [\n    {\"name\": \"Alice\", \"age\": 30},\n    {\"name\": \"Bob\", \"age\": 25},\n    {\"name\": \"Charlie\", \"age\": 35}\n]\nprint(f\"\\nOriginal data: {data}\")\n\n# Use a lambda function as the key to specify which dictionary field to sort by\nsorted_by_age = sorted(data, key=lambda person: person[\"age\"])\nprint(f\"Sorted by age: {sorted_by_age}\")\n\nsorted_by_name = sorted(data, key=lambda person: person[\"name\"])\nprint(f\"Sorted by name: {sorted_by_name}\")\n\n# Sorting by multiple criteria (e.g., primary by age, secondary by name for ties)\ndata_with_ties = [\n    {\"name\": \"Alice\", \"age\": 30},\n    {\"name\": \"Bob\", \"age\": 25},\n    {\"name\": \"Charlie\", \"age\": 35},\n    {\"name\": \"David\", \"age\": 30} # Another person aged 30\n]\nsorted_by_age_then_name = sorted(data_with_ties, key=lambda person: (person[\"age\"], person[\"name\"]))\nprint(f\"Sorted by age then name: {sorted_by_age_then_name}\")\n\n# --- Example 5: Sorting other iterables (e.g., a tuple) ---\nmy_tuple = (5, 2, 8, 1)\nsorted_tuple_to_list = sorted(my_tuple) # Returns a list\nprint(f\"\\nOriginal tuple: {my_tuple}\")\nprint(f\"Sorted tuple (as new list): {sorted_tuple_to_list}\")\n```\n\n**Key Characteristics of `sorted()`:**\n*   **Returns a new list:** The original iterable is not modified.\n*   **Works on any iterable:** Can sort lists, tuples, sets, strings, dictionaries (by keys), etc. It always returns a *list*.\n*   **Flexible:** Very powerful with the `key` argument for custom sorting logic.\n\n---\n\n### When to use which?\n\n*   **`list.sort()`:**\n    *   When you only need the sorted version and don't care about the original order.\n    *   When you want to save memory (it doesn't create a new list).\n    *   Generally, when working with list objects that you intend to mutate.\n*   **`sorted()`:**\n    *   When you need to keep the original list intact.\n    *   When you need to sort an iterable that isn't a list (like a tuple, set, or the keys of a dictionary).\n    *   When you want a sorted *copy* to work with, while the original remains for other purposes.\n\nBoth methods are implemented using Timsort, a hybrid stable sorting algorithm that is efficient for a wide range of real-world data."
          },
          "metadata": {}
        }
      ],
      "source": [
        "from IPython.display import Markdown\n",
        "\n",
        "response = client.models.generate_content(\n",
        "    model=MODEL_ID,\n",
        "    contents=\"Please give me python code to sort a list.\"\n",
        ")\n",
        "\n",
        "display(Markdown(response.text))"
      ]
    },
    {
      "cell_type": "markdown",
      "metadata": {
        "id": "BTdQtZri1Brs"
      },
      "source": [
        "## Store your key in an environment variable"
      ]
    },
    {
      "cell_type": "markdown",
      "metadata": {
        "id": "gZDX51Y27pN4"
      },
      "source": [
        "If you're using a different development environment (or calling the Gemini API through `cURL` in your terminal), it's recommended to store your key in an environment variable.\n",
        "\n",
        "To store your key in an environment variable, open your terminal and run:\n",
        "\n",
        "```export GOOGLE_API_KEY=\"YOUR_API_KEY\"```\n",
        "\n",
        "If you're using Python, you can add these two lines to your notebook to read the key:\n",
        "\n",
        "```\n",
        "import os\n",
        "client = genai.Client(api_key=os.environ['GOOGLE_API_KEY'])\n",
        "```\n",
        "\n",
        "Alternatively, if it isn't provided explicitly, the client will look for the API key.\n",
        "\n",
        "```\n",
        "client = genai.Client()\n",
        "```\n",
        "\n",
        "Or, if you're calling the API through your terminal using `cURL`, you can copy and paste this code to read your key from the environment variable.\n",
        "\n",
        "```\n",
        "curl \"https://generativelanguage.googleapis.com/v1beta/models/gemini-2.0-flash:generateContent?key=$GOOGLE_API_KEY\" \\\n",
        "    -H 'Content-Type: application/json' \\\n",
        "    -X POST \\\n",
        "    -d '{\n",
        "      \"contents\": [{\n",
        "        \"parts\":[{\n",
        "          \"text\": \"Please give me Python code to sort a list.\"\n",
        "        }]\n",
        "      }]\n",
        "    }'\n",
        "```\n"
      ]
    },
    {
      "cell_type": "markdown",
      "metadata": {
        "id": "CAOKOcax1xZY"
      },
      "source": [
        "## Learning more\n",
        "\n",
        "Now that you know how to manage your API key, you've everything to [get started](./Get_started.ipynb) with Gemini. Check all the [quickstart guides](https://github.com/google-gemini/cookbook/tree/main/quickstarts) from the Cookbook, and in particular the [Get started](./Get_started.ipynb) one."
      ]
    }
  ],
  "metadata": {
    "colab": {
      "name": "Authentication.ipynb",
      "provenance": []
    },
    "google": {
      "image_path": "/site-assets/images/share.png",
      "keywords": [
        "examples",
        "googleai",
        "samplecode",
        "python",
        "embed",
        "function"
      ]
    },
    "kernelspec": {
      "display_name": "Python 3",
      "name": "python3"
    }
  },
  "nbformat": 4,
  "nbformat_minor": 0
}